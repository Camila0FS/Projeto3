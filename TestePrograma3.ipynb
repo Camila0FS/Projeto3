{
 "cells": [
  {
   "cell_type": "markdown",
   "id": "19294e48",
   "metadata": {},
   "source": [
    "Programa 3 - Camila F. Sant´Ana\n",
    "Requisitos\n",
    "\n",
    "Escreva um programa em Python que colete dados de notícias políticas na página do G1 e os salve em um arquivo no formato html.\n",
    "Coloque o código e o arquivo html no seu GitHub.\n",
    "Dica: Use o pacotes requests."
   ]
  },
  {
   "cell_type": "code",
   "execution_count": 1,
   "id": "e0519f21",
   "metadata": {},
   "outputs": [],
   "source": [
    "# Importando requests\n",
    "\n",
    "import requests"
   ]
  },
  {
   "cell_type": "code",
   "execution_count": 2,
   "id": "7eedb5ef",
   "metadata": {},
   "outputs": [
    {
     "data": {
      "text/plain": [
       "200"
      ]
     },
     "execution_count": 2,
     "metadata": {},
     "output_type": "execute_result"
    }
   ],
   "source": [
    "# Lendo a página de política do G1\n",
    "\n",
    "endereco = \"https://g1.globo.com/politica/\"\n",
    "\n",
    "pagina = requests.get(endereco)\n",
    "pagina.status_code"
   ]
  },
  {
   "cell_type": "code",
   "execution_count": 3,
   "id": "d91e6398",
   "metadata": {},
   "outputs": [
    {
     "data": {
      "text/plain": [
       "200"
      ]
     },
     "execution_count": 3,
     "metadata": {},
     "output_type": "execute_result"
    }
   ],
   "source": [
    "def page_reader(endereco: str) -> requests.models.Response:\n",
    "    pagina = requests.get(endereco)\n",
    "    return pagina\n",
    "\n",
    "pagina_politica_G1 = page_reader(\"https://g1.globo.com/politica/\")\n",
    "pagina_politica_G1.status_code"
   ]
  },
  {
   "cell_type": "code",
   "execution_count": 4,
   "id": "7fb264f8",
   "metadata": {},
   "outputs": [
    {
     "data": {
      "text/plain": [
       "requests.models.Response"
      ]
     },
     "execution_count": 4,
     "metadata": {},
     "output_type": "execute_result"
    }
   ],
   "source": [
    "type(pagina)"
   ]
  },
  {
   "cell_type": "code",
   "execution_count": 5,
   "id": "435513da",
   "metadata": {},
   "outputs": [],
   "source": [
    "# Gravando o qrquivo com as informações da variável pagina\n",
    "\n",
    "arquivo = open('pagina.html', 'wb')\n",
    "for texto in pagina.iter_content(1048576):\n",
    "        arquivo.write(texto)\n",
    "arquivo.close()"
   ]
  },
  {
   "cell_type": "code",
   "execution_count": 6,
   "id": "1808b011",
   "metadata": {},
   "outputs": [],
   "source": [
    "def grava_pagina_web(resposta: requests.models.Response) -> None:\n",
    "    arquivo = open('politica.html', 'wb')\n",
    "    for texto in pagina.iter_content():\n",
    "        arquivo.write(texto)\n",
    "    arquivo.close()\n",
    "    \n",
    "grava_pagina_web(pagina_politica_G1)"
   ]
  }
 ],
 "metadata": {
  "kernelspec": {
   "display_name": "Python 3 (ipykernel)",
   "language": "python",
   "name": "python3"
  },
  "language_info": {
   "codemirror_mode": {
    "name": "ipython",
    "version": 3
   },
   "file_extension": ".py",
   "mimetype": "text/x-python",
   "name": "python",
   "nbconvert_exporter": "python",
   "pygments_lexer": "ipython3",
   "version": "3.9.12"
  }
 },
 "nbformat": 4,
 "nbformat_minor": 5
}
